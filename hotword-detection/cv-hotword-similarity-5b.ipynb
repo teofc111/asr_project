{
 "cells": [
  {
   "cell_type": "markdown",
   "metadata": {},
   "source": [
    "## Hotword Similarity Detection"
   ]
  },
  {
   "cell_type": "markdown",
   "metadata": {},
   "source": [
    "Here, we perform hotword detection that does not require exact word matches, but considers similar words too. This is done using `InstructorEmbedding` for text embedding. We use https://huggingface.co/hkunlp/instructor-large below."
   ]
  },
  {
   "cell_type": "code",
   "execution_count": 1,
   "metadata": {
    "_cell_guid": "b1076dfc-b9ad-4769-8c92-a6c4dae69d19",
    "_uuid": "8f2839f25d086af736a60e9eeb907d3b93b6e0e5",
    "execution": {
     "iopub.execute_input": "2024-11-08T04:55:16.146250Z",
     "iopub.status.busy": "2024-11-08T04:55:16.145363Z",
     "iopub.status.idle": "2024-11-08T04:55:21.509228Z",
     "shell.execute_reply": "2024-11-08T04:55:21.508246Z",
     "shell.execute_reply.started": "2024-11-08T04:55:16.146200Z"
    },
    "trusted": true
   },
   "outputs": [
    {
     "name": "stderr",
     "output_type": "stream",
     "text": [
      "/home/tfc/anaconda3/envs/asr/lib/python3.12/site-packages/InstructorEmbedding/instructor.py:7: TqdmWarning: IProgress not found. Please update jupyter and ipywidgets. See https://ipywidgets.readthedocs.io/en/stable/user_install.html\n",
      "  from tqdm.autonotebook import trange\n"
     ]
    }
   ],
   "source": [
    "import os\n",
    "import re\n",
    "import numpy as np\n",
    "import pandas as pd\n",
    "\n",
    "from scipy.stats import zscore\n",
    "\n",
    "from sklearn.metrics.pairwise import cosine_similarity\n",
    "from InstructorEmbedding import INSTRUCTOR\n",
    "\n",
    "HOME_DIR = os.path.expanduser('~')"
   ]
  },
  {
   "cell_type": "markdown",
   "metadata": {},
   "source": [
    "First, we load the required embedder."
   ]
  },
  {
   "cell_type": "code",
   "execution_count": 2,
   "metadata": {
    "execution": {
     "iopub.execute_input": "2024-11-08T04:55:21.511220Z",
     "iopub.status.busy": "2024-11-08T04:55:21.510740Z",
     "iopub.status.idle": "2024-11-08T04:55:32.702092Z",
     "shell.execute_reply": "2024-11-08T04:55:32.701162Z",
     "shell.execute_reply.started": "2024-11-08T04:55:21.511184Z"
    },
    "trusted": true
   },
   "outputs": [
    {
     "name": "stdout",
     "output_type": "stream",
     "text": [
      "load INSTRUCTOR_Transformer\n",
      "max_seq_length  512\n"
     ]
    },
    {
     "name": "stderr",
     "output_type": "stream",
     "text": [
      "/home/tfc/anaconda3/envs/asr/lib/python3.12/site-packages/sentence_transformers/models/Dense.py:63: FutureWarning: You are using `torch.load` with `weights_only=False` (the current default value), which uses the default pickle module implicitly. It is possible to construct malicious pickle data which will execute arbitrary code during unpickling (See https://github.com/pytorch/pytorch/blob/main/SECURITY.md#untrusted-models for more details). In a future release, the default value for `weights_only` will be flipped to `True`. This limits the functions that could be executed during unpickling. Arbitrary objects will no longer be allowed to be loaded via this mode unless they are explicitly allowlisted by the user via `torch.serialization.add_safe_globals`. We recommend you start setting `weights_only=True` for any use case where you don't have full control of the loaded file. Please open an issue on GitHub for any issues related to this experimental feature.\n",
      "  model.load_state_dict(torch.load(os.path.join(input_path, 'pytorch_model.bin'), map_location=torch.device('cpu')))\n"
     ]
    }
   ],
   "source": [
    "model = INSTRUCTOR('hkunlp/instructor-large').to('cuda')"
   ]
  },
  {
   "cell_type": "markdown",
   "metadata": {},
   "source": [
    "Then, we load the transcript produced from the sister notebook in `asr_project/hotword-detection/cv-hotword-5a.ipynb`, given by the file `new_transcription.csv`"
   ]
  },
  {
   "cell_type": "code",
   "execution_count": 3,
   "metadata": {
    "execution": {
     "iopub.execute_input": "2024-11-08T05:01:00.298644Z",
     "iopub.status.busy": "2024-11-08T05:01:00.297657Z",
     "iopub.status.idle": "2024-11-08T05:01:00.333984Z",
     "shell.execute_reply": "2024-11-08T05:01:00.333164Z",
     "shell.execute_reply.started": "2024-11-08T05:01:00.298603Z"
    },
    "trusted": true
   },
   "outputs": [
    {
     "data": {
      "text/html": [
       "<div>\n",
       "<style scoped>\n",
       "    .dataframe tbody tr th:only-of-type {\n",
       "        vertical-align: middle;\n",
       "    }\n",
       "\n",
       "    .dataframe tbody tr th {\n",
       "        vertical-align: top;\n",
       "    }\n",
       "\n",
       "    .dataframe thead th {\n",
       "        text-align: right;\n",
       "    }\n",
       "</style>\n",
       "<table border=\"1\" class=\"dataframe\">\n",
       "  <thead>\n",
       "    <tr style=\"text-align: right;\">\n",
       "      <th></th>\n",
       "      <th>index</th>\n",
       "      <th>filename</th>\n",
       "      <th>pred_str</th>\n",
       "    </tr>\n",
       "  </thead>\n",
       "  <tbody>\n",
       "    <tr>\n",
       "      <th>0</th>\n",
       "      <td>0</td>\n",
       "      <td>sample-000000.mp3</td>\n",
       "      <td>be careful with your prognostications said the...</td>\n",
       "    </tr>\n",
       "    <tr>\n",
       "      <th>1</th>\n",
       "      <td>1</td>\n",
       "      <td>sample-000001.mp3</td>\n",
       "      <td>then why should they be surprised when they se...</td>\n",
       "    </tr>\n",
       "    <tr>\n",
       "      <th>2</th>\n",
       "      <td>2</td>\n",
       "      <td>sample-000002.mp3</td>\n",
       "      <td>a young arab also loaded down with baggage ent...</td>\n",
       "    </tr>\n",
       "    <tr>\n",
       "      <th>3</th>\n",
       "      <td>3</td>\n",
       "      <td>sample-000003.mp3</td>\n",
       "      <td>i felt that everything i owned would be destroyed</td>\n",
       "    </tr>\n",
       "    <tr>\n",
       "      <th>4</th>\n",
       "      <td>4</td>\n",
       "      <td>sample-000004.mp3</td>\n",
       "      <td>he moved about invisible but everyone could he...</td>\n",
       "    </tr>\n",
       "    <tr>\n",
       "      <th>...</th>\n",
       "      <td>...</td>\n",
       "      <td>...</td>\n",
       "      <td>...</td>\n",
       "    </tr>\n",
       "    <tr>\n",
       "      <th>4070</th>\n",
       "      <td>4071</td>\n",
       "      <td>sample-004071.mp3</td>\n",
       "      <td>but they could never have taught him arabic</td>\n",
       "    </tr>\n",
       "    <tr>\n",
       "      <th>4071</th>\n",
       "      <td>4072</td>\n",
       "      <td>sample-004072.mp3</td>\n",
       "      <td>he decided to concentrate on more practical ma...</td>\n",
       "    </tr>\n",
       "    <tr>\n",
       "      <th>4072</th>\n",
       "      <td>4073</td>\n",
       "      <td>sample-004073.mp3</td>\n",
       "      <td>that's what i'm not supposed to say</td>\n",
       "    </tr>\n",
       "    <tr>\n",
       "      <th>4073</th>\n",
       "      <td>4074</td>\n",
       "      <td>sample-004074.mp3</td>\n",
       "      <td>just here the winple made him feel better</td>\n",
       "    </tr>\n",
       "    <tr>\n",
       "      <th>4074</th>\n",
       "      <td>4075</td>\n",
       "      <td>sample-004075.mp3</td>\n",
       "      <td>the city sealer's office</td>\n",
       "    </tr>\n",
       "  </tbody>\n",
       "</table>\n",
       "<p>4075 rows × 3 columns</p>\n",
       "</div>"
      ],
      "text/plain": [
       "      index           filename  \\\n",
       "0         0  sample-000000.mp3   \n",
       "1         1  sample-000001.mp3   \n",
       "2         2  sample-000002.mp3   \n",
       "3         3  sample-000003.mp3   \n",
       "4         4  sample-000004.mp3   \n",
       "...     ...                ...   \n",
       "4070   4071  sample-004071.mp3   \n",
       "4071   4072  sample-004072.mp3   \n",
       "4072   4073  sample-004073.mp3   \n",
       "4073   4074  sample-004074.mp3   \n",
       "4074   4075  sample-004075.mp3   \n",
       "\n",
       "                                               pred_str  \n",
       "0     be careful with your prognostications said the...  \n",
       "1     then why should they be surprised when they se...  \n",
       "2     a young arab also loaded down with baggage ent...  \n",
       "3     i felt that everything i owned would be destroyed  \n",
       "4     he moved about invisible but everyone could he...  \n",
       "...                                                 ...  \n",
       "4070        but they could never have taught him arabic  \n",
       "4071  he decided to concentrate on more practical ma...  \n",
       "4072                that's what i'm not supposed to say  \n",
       "4073          just here the winple made him feel better  \n",
       "4074                           the city sealer's office  \n",
       "\n",
       "[4075 rows x 3 columns]"
      ]
     },
     "execution_count": 3,
     "metadata": {},
     "output_type": "execute_result"
    }
   ],
   "source": [
    "new_transcription_path = os.path.join(HOME_DIR,'asr_project/hotword-detection/new_transcription.csv')\n",
    "df_raw = pd.read_csv(new_transcription_path).dropna().reset_index()\n",
    "df_raw['pred_str'] = df_raw['pred_str'].str.lower()\n",
    "df_raw"
   ]
  },
  {
   "cell_type": "markdown",
   "metadata": {},
   "source": [
    "To get the texts with similar phrases, we need to provide intructions to the model to represent the transcripts accordingly."
   ]
  },
  {
   "cell_type": "code",
   "execution_count": 4,
   "metadata": {
    "execution": {
     "iopub.execute_input": "2024-11-08T05:04:31.036569Z",
     "iopub.status.busy": "2024-11-08T05:04:31.035807Z",
     "iopub.status.idle": "2024-11-08T05:04:42.659922Z",
     "shell.execute_reply": "2024-11-08T05:04:42.659053Z",
     "shell.execute_reply.started": "2024-11-08T05:04:31.036520Z"
    },
    "trusted": true
   },
   "outputs": [],
   "source": [
    "# Store text embedment\n",
    "text_repr = df_raw['pred_str'].map(lambda x: ['Represent the sentence:',x])\n",
    "target_sentences = text_repr.to_list()\n",
    "target_embeddings = model.encode(target_sentences)"
   ]
  },
  {
   "cell_type": "markdown",
   "metadata": {},
   "source": [
    "Next, we encode the queried words/phrases and use cosine similarity to get texts expressing the same sentiments."
   ]
  },
  {
   "cell_type": "code",
   "execution_count": 5,
   "metadata": {
    "execution": {
     "iopub.execute_input": "2024-11-08T05:05:10.472076Z",
     "iopub.status.busy": "2024-11-08T05:05:10.471388Z",
     "iopub.status.idle": "2024-11-08T05:05:10.533302Z",
     "shell.execute_reply": "2024-11-08T05:05:10.532045Z",
     "shell.execute_reply.started": "2024-11-08T05:05:10.472034Z"
    },
    "trusted": true
   },
   "outputs": [
    {
     "name": "stdout",
     "output_type": "stream",
     "text": [
      "Total detected: 114\n",
      "Stranger detected: 40\n",
      "Be careful detected: 45\n",
      "Destroy detect: 31\n"
     ]
    }
   ],
   "source": [
    "ref_phrases = [['Represent the sentence: ','stranger'],\n",
    "               ['Represent the sentence: ','be careful'],\n",
    "               ['Represent the sentence: ','destroy']]\n",
    "\n",
    "# Function to get similar sentences given reference phrases\n",
    "def get_similar_sentences(df_raw, ref_phrases, threshold=3, detailed=False):\n",
    "    # Get reference phrase embedment\n",
    "    df = df_raw.copy()\n",
    "    ref_embeddings = model.encode(ref_phrases)\n",
    "    similarity = pd.DataFrame(cosine_similarity(ref_embeddings,target_embeddings).T)\n",
    "\n",
    "    # Calculate the Z-score and identify sentences beyond threshold, default 3 standard deviations\n",
    "    z_scores = similarity.apply(zscore)\n",
    "    df = pd.concat([df,z_scores],axis=1)\n",
    "    df['stranger_detected'] = df.apply(lambda row: row[0]>threshold,axis=1)\n",
    "    df['becareful_detected'] = df.apply(lambda row: row[1]>threshold,axis=1)\n",
    "    df['destroy_detected'] = df.apply(lambda row: row[2]>threshold,axis=1)\n",
    "    df['similarity'] = df[['stranger_detected','becareful_detected','destroy_detected']].sum(axis=1)>0\n",
    "    if detailed:\n",
    "        return df\n",
    "    else:\n",
    "        return df.loc[df['similarity'],['filename','pred_str','stranger_detected','becareful_detected','destroy_detected']]\n",
    "\n",
    "df = get_similar_sentences(df_raw, ref_phrases, threshold=3)\n",
    "print(f'Total detected: {len(df)}')\n",
    "print(f'Stranger detected: {df['stranger_detected'].sum()}')\n",
    "print(f'Be careful detected: {df['becareful_detected'].sum()}')\n",
    "print(f'Destroy detect: {df['destroy_detected'].sum()}')"
   ]
  },
  {
   "cell_type": "markdown",
   "metadata": {},
   "source": [
    "We examine the captured text."
   ]
  },
  {
   "cell_type": "code",
   "execution_count": 6,
   "metadata": {},
   "outputs": [
    {
     "name": "stdout",
     "output_type": "stream",
     "text": [
      "sample-000000.mp3\n",
      "be careful with your prognostications said the stranger\n",
      "sample-000003.mp3\n",
      "i felt that everything i owned would be destroyed\n",
      "sample-000018.mp3\n",
      "to rourish the falcon\n",
      "sample-000089.mp3\n",
      "the stranger seemed satisfied ith the answer\n",
      "sample-000180.mp3\n",
      "what a load of trash sarah apined\n",
      "sample-000202.mp3\n",
      "how strange africa is thought the boy\n",
      "sample-000205.mp3\n",
      "and eventually man wool nourish your sands where the game wool wont again flourish\n",
      "sample-000231.mp3\n",
      "he felt uneasy at the man's presence\n",
      "sample-000261.mp3\n",
      "he didn't know the man yet but his practiced eye would recognize him when he appeared\n",
      "sample-000303.mp3\n",
      "the boy noticed that the man's clothing was strange\n",
      "sample-000351.mp3\n",
      "the turf and gravel around it seemed charred as if by a sudden explosion\n",
      "sample-000390.mp3\n",
      "this was the strangest of all things that ever came to earth from outer space\n",
      "sample-000419.mp3\n",
      "the risk if you get in here and wriht\n",
      "sample-000508.mp3\n",
      "i had to test your courage the stranger said\n",
      "sample-000532.mp3\n",
      "shoot through the desk\n",
      "sample-000544.mp3\n",
      "teravanigisnot my style but obvious accidents will happen\n",
      "sample-000674.mp3\n",
      "i had to test your courage the stranger said\n",
      "sample-000703.mp3\n",
      "afraid it might rain\n",
      "sample-000884.mp3\n",
      "how strange africa is thought the boy\n",
      "sample-000892.mp3\n",
      "he didn't know the man yet but his practiced eye would recognize him when he appeared\n",
      "sample-000900.mp3\n",
      "but he appeared to be unaware of any danger\n",
      "sample-000951.mp3\n",
      "the turf and gravel around it seemed charred as if by a sudden explosion\n",
      "sample-000956.mp3\n",
      "they need wor killing beside a lafe\n",
      "sample-000979.mp3\n",
      "the turf and gravel around it seemed charred as if by a sudden explosion\n",
      "sample-001017.mp3\n",
      "don't try to enter into the life of the oasis\n",
      "sample-001036.mp3\n",
      "sanga read aloud the strange excerpt\n",
      "sample-001093.mp3\n",
      "be careful with your prognostications said the stranger\n",
      "sample-001095.mp3\n",
      "that's what killed him\n",
      "sample-001101.mp3\n",
      "the stranger was speaking of things that very few people knew about\n",
      "sample-001147.mp3\n",
      "he had found what his treasure was and was frightened at what might happen\n",
      "sample-001240.mp3\n",
      "always heed the omens the old king had said\n",
      "sample-001243.mp3\n",
      "the stranger was speaking of things that very few people knew about\n",
      "sample-001296.mp3\n",
      "strange images passed through my mind\n",
      "sample-001311.mp3\n",
      "fangra read aloud this strange excerpt\n",
      "sample-001360.mp3\n",
      "an huge hole had been made by the impact of the projectile\n",
      "sample-001440.mp3\n",
      "dont share your opinions so readily because you never know who is listening\n",
      "sample-001484.mp3\n",
      "then a man approached\n",
      "sample-001498.mp3\n",
      "it's the other foreign the englishman\n",
      "sample-001501.mp3\n",
      "i had to test your courage the stranger said\n",
      "sample-001507.mp3\n",
      "so he could not be hasty nor impatient\n",
      "sample-001596.mp3\n",
      "you have killed your sagon gan at me\n",
      "sample-001661.mp3\n",
      "an huge hole had been made by the impact of the projectile\n",
      "sample-001666.mp3\n",
      "these have displaced it said onong the minon\n",
      "sample-001684.mp3\n",
      "strange images passed through my mind\n",
      "sample-001691.mp3\n",
      "the englishman asked if they were in any danger\n",
      "sample-001695.mp3\n",
      "how do you stop this thing\n",
      "sample-001781.mp3\n",
      "then it became a signal of danger\n",
      "sample-001791.mp3\n",
      "dont share your opinions so readily because you never know who is listening\n",
      "sample-001828.mp3\n",
      "i i was terribly worried\n",
      "sample-001919.mp3\n",
      "the englishman asked if they were in danger\n",
      "sample-001933.mp3\n",
      "the stranger seemed satisfied with the answer\n",
      "sample-002008.mp3\n",
      "there's women are rock har charks don't be suled\n",
      "sample-002011.mp3\n",
      "he had found where his treasure was and was frightened at what might happen\n",
      "sample-002013.mp3\n",
      "wook for somebody else\n",
      "sample-002039.mp3\n",
      "on this having they dalchema decired to make gampa the o</s>the\n",
      "sample-002092.mp3\n",
      "johnathan assessed the situation carefully\n",
      "sample-002104.mp3\n",
      "you'd better take it easy\n",
      "sample-002149.mp3\n",
      "they were strange books\n",
      "sample-002166.mp3\n",
      "be sure you spill the name right\n",
      "sample-002203.mp3\n",
      "don't try to move\n",
      "sample-002243.mp3\n",
      "only realized thit had been destructive for a few moments looking at the sword\n",
      "sample-002342.mp3\n",
      "strange images passed through my mind\n",
      "sample-002344.mp3\n",
      "drop the whole business quickly\n",
      "sample-002373.mp3\n",
      "don't be impatient he repeated to himself\n",
      "sample-002405.mp3\n",
      "the stranger was speaking of things that pretty few people new bott\n",
      "sample-002586.mp3\n",
      "several figures approached him\n",
      "sample-002612.mp3\n",
      "an huge hole had been made by the impact of the projectile\n",
      "sample-002627.mp3\n",
      "this was the strangest of all things that ever came to earth from outer space\n",
      "sample-002672.mp3\n",
      "it was almost as if her life had been deleted\n",
      "sample-002706.mp3\n",
      "strange everges passed through my mind\n",
      "sample-002726.mp3\n",
      "the giter broke nd she couldn't play anymore\n",
      "sample-002740.mp3\n",
      "they were strange books\n",
      "sample-002758.mp3\n",
      "look where you're going\n",
      "sample-002759.mp3\n",
      "take hole of the cover\n",
      "sample-002764.mp3\n",
      "always heed the omens the old king had said\n",
      "sample-002812.mp3\n",
      "on the following day the first clear sign of danger appeared\n",
      "sample-002818.mp3\n",
      "and the sand and gravel had been flung violently in every direction\n",
      "sample-002854.mp3\n",
      "and don't forget the language of omens\n",
      "sample-002886.mp3\n",
      "then he realized that he had been distructed for a few moments looking at the sword\n",
      "sample-002928.mp3\n",
      "watch out for his venom the boy said\n",
      "sample-002966.mp3\n",
      "dont share your opinions so readily because you never know who is listening\n",
      "sample-002971.mp3\n",
      "the plastic barrier shattered\n",
      "sample-002986.mp3\n",
      "don't give in to your fears said the alchemist in a strangely gentle voice\n",
      "sample-003006.mp3\n",
      "some storms are worth the wreckage\n",
      "sample-003045.mp3\n",
      "and the girl pointed to the south indicating that it was there the strange hand lived\n",
      "sample-003058.mp3\n",
      "and don't forget the language of omens\n",
      "sample-003065.mp3\n",
      "the stranger withdrew the sword from the boy's forehead and the boy felt immensely relieved\n",
      "sample-003106.mp3\n",
      "and the sand and gravel had been flung violently in every direction\n",
      "sample-003112.mp3\n",
      "watch out for his venom the boy said\n",
      "sample-003127.mp3\n",
      "in general people have difficulties estimating risks correctly\n",
      "sample-003160.mp3\n",
      "on the following day the first clear sign of danger appeared\n",
      "sample-003219.mp3\n",
      "i had to test your courage the stranger said\n",
      "sample-003225.mp3\n",
      "he didn't know the man yet but his practiced eye would recognize him when he appeared\n",
      "sample-003226.mp3\n",
      "a large piece suddenly came off and felled with a loud and sharp noise\n",
      "sample-003244.mp3\n",
      "he felt unsafe like daring his first blesson and driving school\n",
      "sample-003263.mp3\n",
      "don't be impatient he repeated to himself\n",
      "sample-003265.mp3\n",
      "this was the strangest of all things that ever came to earth from outer space\n",
      "sample-003320.mp3\n",
      "the englishman asked if they were in danger\n",
      "sample-003344.mp3\n",
      "one must prepare for it\n",
      "sample-003414.mp3\n",
      "put down that chair\n",
      "sample-003422.mp3\n",
      "but before i do it i won't get tony on in stiry\n",
      "sample-003507.mp3\n",
      "strange images passed through my mind\n",
      "sample-003528.mp3\n",
      "dont share your opinion so readily because you never know who is listening\n",
      "sample-003556.mp3\n",
      "some storms are worth the wreckage\n",
      "sample-003662.mp3\n",
      "and the girl pointed to the south indicating that it was there the strange man lived\n",
      "sample-003727.mp3\n",
      "this was the strangest of all things that ever came to earth from outer space\n",
      "sample-003733.mp3\n",
      "don't give in to your fears said the alchemist in a strangely gentle voice\n",
      "sample-003808.mp3\n",
      "i had to test your courage the stranger said\n",
      "sample-003821.mp3\n",
      "that's when he w'll be safe and not a minute before\n",
      "sample-003828.mp3\n",
      "somebody's going to get hurt\n",
      "sample-003869.mp3\n",
      "revenge is not my styr but obviously accident will happen\n",
      "sample-003907.mp3\n",
      "he must be disguised to avoid encounters with thieves\n",
      "sample-003909.mp3\n",
      "this was the strangest of all things that ever came to her from outer space\n",
      "sample-003939.mp3\n",
      "and don't forget the language of omens\n"
     ]
    }
   ],
   "source": [
    "for i,row in df.iterrows():\n",
    "    print(row['filename'])\n",
    "    print(row['pred_str'])"
   ]
  },
  {
   "cell_type": "markdown",
   "metadata": {},
   "source": [
    "The captured texts appear to be in line with our expectations. We capture the full record and save it as csv (__task 5b__)."
   ]
  },
  {
   "cell_type": "code",
   "execution_count": 7,
   "metadata": {},
   "outputs": [],
   "source": [
    "# Get full record, including negative samples\n",
    "df_full = get_similar_sentences(df_raw, ref_phrases, threshold=3, detailed=True).drop(columns=[0,1,2])\n",
    "df_full['filename'] = df_full['filename'].map(lambda x: 'cv-valid-dev/'+x)\n",
    "\n",
    "# Save as csv in the same format as cv-valid-dev\n",
    "cv_valid_dev_path = os.path.join(HOME_DIR,'asr_project/common_voice/cv-valid-dev.csv')\n",
    "updated_transcript_path = os.path.join(HOME_DIR,'asr_project/hotword-detection/cv-valid-dev-updated.csv')\n",
    "\n",
    "df_or = pd.read_csv(cv_valid_dev_path)\n",
    "df = df_or.merge(df_full[['filename','similarity']], on='filename', how='left')\n",
    "df.to_csv(updated_transcript_path)"
   ]
  }
 ],
 "metadata": {
  "kernelspec": {
   "display_name": "asr",
   "language": "python",
   "name": "python3"
  },
  "language_info": {
   "codemirror_mode": {
    "name": "ipython",
    "version": 3
   },
   "file_extension": ".py",
   "mimetype": "text/x-python",
   "name": "python",
   "nbconvert_exporter": "python",
   "pygments_lexer": "ipython3",
   "version": "3.12.7"
  }
 },
 "nbformat": 4,
 "nbformat_minor": 4
}
