{
 "cells": [
  {
   "cell_type": "markdown",
   "metadata": {},
   "source": [
    "## Hotword detection"
   ]
  },
  {
   "cell_type": "markdown",
   "metadata": {},
   "source": [
    "Here, we perform hotword detection on the `cv-valid-dev` split of the common voice dataset using our finetuned model. We follow the run-through provided in the sister notebook in `asr_project/asr-train/cv-train-2a.ipynb`  for this task."
   ]
  },
  {
   "cell_type": "code",
   "execution_count": 1,
   "metadata": {
    "collapsed": true,
    "execution": {
     "iopub.execute_input": "2024-11-08T04:54:49.087668Z",
     "iopub.status.busy": "2024-11-08T04:54:49.087268Z",
     "iopub.status.idle": "2024-11-08T04:55:16.142815Z",
     "shell.execute_reply": "2024-11-08T04:55:16.141760Z",
     "shell.execute_reply.started": "2024-11-08T04:54:49.087630Z"
    },
    "jupyter": {
     "outputs_hidden": true
    },
    "trusted": true
   },
   "outputs": [
    {
     "name": "stderr",
     "output_type": "stream",
     "text": [
      "/home/tfc/anaconda3/envs/asr/lib/python3.12/site-packages/tqdm/auto.py:21: TqdmWarning: IProgress not found. Please update jupyter and ipywidgets. See https://ipywidgets.readthedocs.io/en/stable/user_install.html\n",
      "  from .autonotebook import tqdm as notebook_tqdm\n"
     ]
    }
   ],
   "source": [
    "import os\n",
    "import re\n",
    "import numpy as np\n",
    "import pandas as pd\n",
    "\n",
    "import torch\n",
    "import torchaudio\n",
    "\n",
    "from transformers import Wav2Vec2Processor, Wav2Vec2ForCTC\n",
    "from datasets import load_dataset, Audio\n",
    "\n",
    "HOME_DIR = os.path.expanduser('~')\n"
   ]
  },
  {
   "cell_type": "markdown",
   "metadata": {},
   "source": [
    "## Table of Contents\n",
    "\n",
    "1. [Transcription](#Transcription)\n",
    "2. [Hotword detection](#Hotword-detection)"
   ]
  },
  {
   "cell_type": "markdown",
   "metadata": {},
   "source": [
    "### Transcription"
   ]
  },
  {
   "cell_type": "markdown",
   "metadata": {},
   "source": [
    "First, we load the finetuned model and the associated processor."
   ]
  },
  {
   "cell_type": "code",
   "execution_count": 2,
   "metadata": {},
   "outputs": [],
   "source": [
    "# Load finetuned model\n",
    "tuned_model_path = os.path.join(\n",
    "    HOME_DIR,\n",
    "    'asr_project/asr-train/wav2vec2-large-960h-cv')\n",
    "model = Wav2Vec2ForCTC.from_pretrained(tuned_model_path)\n",
    "processor = Wav2Vec2Processor.from_pretrained(\"facebook/wav2vec2-large-960h\")"
   ]
  },
  {
   "cell_type": "markdown",
   "metadata": {},
   "source": [
    "Then, we reproduce the functions developed in `cv-train-2a.ipynb` here."
   ]
  },
  {
   "cell_type": "code",
   "execution_count": 3,
   "metadata": {},
   "outputs": [],
   "source": [
    "# Helpers\n",
    "def map_to_result(batch):\n",
    "    with torch.no_grad():\n",
    "        input_values = torch.tensor(batch[\"input_values\"], device=\"cuda\").unsqueeze(0)\n",
    "        logits = model(input_values).logits\n",
    "\n",
    "    pred_ids = torch.argmax(logits, dim=-1)\n",
    "    batch[\"pred_str\"] = processor.batch_decode(pred_ids)[0]\n",
    "    batch[\"text\"] = processor.decode(batch[\"labels\"], group_tokens=False)\n",
    "  \n",
    "    return batch\n",
    "\n",
    "# Function to convert mp3 to wav\n",
    "def convert_mp3_to_wav(mp3_file):\n",
    "    # Generate the output wav file path\n",
    "    wav_file = mp3_file.replace('.mp3', '.wav')\n",
    "    \n",
    "    # Convert mp3 to wav if wav file does not exist\n",
    "    if not os.path.exists(wav_file):\n",
    "        waveform, sample_rate = torchaudio.load(mp3_file)\n",
    "        torchaudio.save(wav_file, waveform, sample_rate)\n",
    "    \n",
    "    return wav_file\n",
    "\n",
    "# Function to insert required tokens\n",
    "start_token = \"<s>\"\n",
    "end_token = \"</s>\"\n",
    "word_delimiter_token = \"|\"\n",
    "def preprocess_transcript(batch):\n",
    "    transcript = batch['text']\n",
    "    \n",
    "    # Replace multiple spaces with a single space\n",
    "    transcript = re.sub(r'\\s+', ' ', transcript)\n",
    "    \n",
    "    # Add start and end tokens, and replace spaces with '|'\n",
    "    processed_transcript = start_token + transcript.replace(\" \", f\"{word_delimiter_token}\") + end_token\n",
    "    \n",
    "    return {\"processed_text\": processed_transcript}\n",
    "\n",
    "def prepare_dataset(batch):\n",
    "    # Process 'input_values' column for 1D waveform values\n",
    "    batch[\"input_values\"] = processor(batch[\"input_values\"][\"array\"],\n",
    "                                      sampling_rate=16000).input_values[0]\n",
    "    \n",
    "    # Process the 'labels' column to create 'labels' (text data)\n",
    "    batch[\"labels\"] = processor(text=batch[\"labels\"]).input_ids\n",
    "    \n",
    "    return batch\n",
    "\n",
    "def remove_start_end_tags_batch(batch):\n",
    "    # Remove the <s> and </s> tags from both ends of each string in 'pred_str' and 'text'\n",
    "    batch[\"pred_str\"] = re.sub(r\"^<s>|</s>$\", \"\", batch[\"pred_str\"])\n",
    "    batch[\"text\"] = re.sub(r\"^<s>|</s>$\", \"\", batch[\"text\"])\n",
    "    return batch\n"
   ]
  },
  {
   "cell_type": "markdown",
   "metadata": {},
   "source": [
    "Next, we make sure that the required audio and text transcripts are in the required formats."
   ]
  },
  {
   "cell_type": "code",
   "execution_count": 4,
   "metadata": {},
   "outputs": [],
   "source": [
    "# Test set directories\n",
    "audio_or_dir = os.path.join(HOME_DIR,'asr_project/common_voice/cv-valid-dev/')\n",
    "audio_dir = os.path.join(HOME_DIR,'asr_project/common_voice/cv-valid-dev/cv-valid-dev/')\n",
    "audioloc_transcript_or_dir = os.path.join(HOME_DIR,'asr_project/common_voice/cv-valid-dev.csv')\n",
    "audioloc_transcript_dir = os.path.join(HOME_DIR,'asr_project/asr-train/selected_transcript-dev.csv')\n",
    "temp_dir = os.path.join(HOME_DIR,'asr_project/asr-train/temp-dev.csv')\n",
    "\n",
    "df = pd.read_csv(audioloc_transcript_or_dir)\n",
    "\n",
    "# Convert mp3 to wav. Change mp3 file extension in df accordingly\n",
    "df['filename'] = df['filename'].apply(\n",
    "    lambda filename: convert_mp3_to_wav(\n",
    "        os.path.join(audio_or_dir, filename)))\n",
    "\n",
    "# Put texts to uppercase to match pre-finetuned model\n",
    "df['text'] = df['text'].str.upper()\n",
    "df['filename'] = df['filename'].map(lambda x: os.path.basename(x))\n",
    "\n",
    "df_transcript = df[['filename','text']]\n",
    "df_transcript.to_csv(audioloc_transcript_dir,index=False)"
   ]
  },
  {
   "cell_type": "markdown",
   "metadata": {},
   "source": [
    "Following that, we load the transcripts and audio files, preprocessing as needed before inference."
   ]
  },
  {
   "cell_type": "code",
   "execution_count": 5,
   "metadata": {},
   "outputs": [
    {
     "name": "stderr",
     "output_type": "stream",
     "text": [
      "Generating train split: 4076 examples [00:00, 621152.60 examples/s]\n",
      "Map (num_proc=4): 100%|██████████| 4076/4076 [00:00<00:00, 35817.58 examples/s]\n",
      "Map (num_proc=2): 100%|██████████| 4076/4076 [00:04<00:00, 901.76 examples/s] \n"
     ]
    }
   ],
   "source": [
    "# Load csv file with wav filenames, complete path and create dataset\n",
    "df = pd.read_csv(audioloc_transcript_dir)\n",
    "df['filename'] = df['filename'].map(lambda x: os.path.join(audio_dir,x))\n",
    "df.to_csv(temp_dir,index=False)\n",
    "\n",
    "dataset = load_dataset('csv', data_files=temp_dir, split='train')\n",
    "dataset = dataset.cast_column(\"filename\",\n",
    "                              Audio(sampling_rate=16000))         # Cast audio files with 16kHz sampling rate\n",
    "\n",
    "# Following the style of facebook/wav2ec2-large-960h model\n",
    "start_token = \"<s>\"\n",
    "end_token = \"</s>\"\n",
    "word_delimiter_token = \"|\"\n",
    "\n",
    "# Apply the preprocessing to both train and validation splits\n",
    "dataset = dataset.map(preprocess_transcript, remove_columns=[\"text\"],num_proc=4)\n",
    "dataset = dataset.rename_column(\"filename\", \"input_values\")\n",
    "dataset = dataset.rename_column(\"processed_text\", \"labels\")\n",
    "\n",
    "# Map the dataset transformation to both 'train' and 'val' splits\n",
    "dataset = dataset.map(prepare_dataset, num_proc=2)"
   ]
  },
  {
   "cell_type": "markdown",
   "metadata": {},
   "source": [
    "Finally, we run inference using the finetuned model loaded earlier."
   ]
  },
  {
   "cell_type": "code",
   "execution_count": 6,
   "metadata": {},
   "outputs": [
    {
     "name": "stderr",
     "output_type": "stream",
     "text": [
      "Parameter 'function'=<function map_to_result at 0x7bc64ff7efc0> of the transform datasets.arrow_dataset.Dataset._map_single couldn't be hashed properly, a random hash was used instead. Make sure your transforms and parameters are serializable with pickle or dill for the dataset fingerprinting and caching to work. If you reuse this transform, the caching mechanism will consider it to be different from the previous calls and recompute everything. This warning is only showed once. Subsequent hashing failures won't be showed.\n",
      "Map: 100%|██████████| 4076/4076 [01:41<00:00, 40.23 examples/s]\n",
      "Map: 100%|██████████| 4076/4076 [00:00<00:00, 55859.00 examples/s]\n"
     ]
    }
   ],
   "source": [
    "# Use cuda if available\n",
    "device = 'cuda' if torch.cuda.is_available() else 'cpu'\n",
    "model.to(device)\n",
    "\n",
    "results = dataset.map(map_to_result, remove_columns=dataset.column_names)\n",
    "\n",
    "# Apply the function to the entire dataset\n",
    "results = results.map(remove_start_end_tags_batch)"
   ]
  },
  {
   "cell_type": "markdown",
   "metadata": {},
   "source": [
    "We save a copy of the transcribed texts along with the filenames for later use."
   ]
  },
  {
   "cell_type": "code",
   "execution_count": null,
   "metadata": {},
   "outputs": [],
   "source": [
    "# Create dataframe from results\n",
    "df = results.to_pandas()\n",
    "df_files = pd.read_csv(audioloc_transcript_dir)                           # To get filenames\n",
    "df = pd.concat([df_files['filename'],df['pred_str']],axis=1)\n",
    "df['filename'] = df['filename'].map(lambda x: x.replace('.wav','.mp3'))   # To convert filenames to original mp3 type.\n",
    "\n",
    "# Save as csv\n",
    "new_transcription_path = os.path.join(HOME_DIR,'asr_project/hotword-detection/new_transcription.csv')\n",
    "df.to_csv(new_transcription_path, index=False)"
   ]
  },
  {
   "cell_type": "markdown",
   "metadata": {},
   "source": [
    "### Hotword Detection"
   ]
  },
  {
   "cell_type": "markdown",
   "metadata": {},
   "source": [
    "Here, we check for the presence of the following hotwords: \"be careful\", \"destroy\" and \"stranger\". We first load the transcribed text. We find a broken audio clip which yielded no transcription and drop it from the set."
   ]
  },
  {
   "cell_type": "code",
   "execution_count": 8,
   "metadata": {},
   "outputs": [
    {
     "name": "stdout",
     "output_type": "stream",
     "text": [
      "<class 'pandas.core.frame.DataFrame'>\n",
      "RangeIndex: 4076 entries, 0 to 4075\n",
      "Data columns (total 2 columns):\n",
      " #   Column    Non-Null Count  Dtype \n",
      "---  ------    --------------  ----- \n",
      " 0   filename  4076 non-null   object\n",
      " 1   pred_str  4075 non-null   object\n",
      "dtypes: object(2)\n",
      "memory usage: 63.8+ KB\n"
     ]
    }
   ],
   "source": [
    "# Load transcribed text\n",
    "new_transcription_path = os.path.join(HOME_DIR,'asr_project/hotword-detection/new_transcription.csv')\n",
    "df_raw = pd.read_csv(new_transcription_path)\n",
    "df_raw['pred_str'] = df_raw['pred_str'].str.lower() # Convert to lowercase for readability.\n",
    "df_raw.info()"
   ]
  },
  {
   "cell_type": "code",
   "execution_count": 9,
   "metadata": {},
   "outputs": [
    {
     "name": "stdout",
     "output_type": "stream",
     "text": [
      "<class 'pandas.core.frame.DataFrame'>\n",
      "Index: 4075 entries, 0 to 4075\n",
      "Data columns (total 2 columns):\n",
      " #   Column    Non-Null Count  Dtype \n",
      "---  ------    --------------  ----- \n",
      " 0   filename  4075 non-null   object\n",
      " 1   pred_str  4075 non-null   object\n",
      "dtypes: object(2)\n",
      "memory usage: 95.5+ KB\n"
     ]
    }
   ],
   "source": [
    "df_raw.dropna(inplace=True)\n",
    "df_raw.info()"
   ]
  },
  {
   "cell_type": "markdown",
   "metadata": {},
   "source": [
    "Then, we search through each transcription and pick up entries with the hotword."
   ]
  },
  {
   "cell_type": "code",
   "execution_count": 10,
   "metadata": {},
   "outputs": [
    {
     "data": {
      "text/html": [
       "<div>\n",
       "<style scoped>\n",
       "    .dataframe tbody tr th:only-of-type {\n",
       "        vertical-align: middle;\n",
       "    }\n",
       "\n",
       "    .dataframe tbody tr th {\n",
       "        vertical-align: top;\n",
       "    }\n",
       "\n",
       "    .dataframe thead th {\n",
       "        text-align: right;\n",
       "    }\n",
       "</style>\n",
       "<table border=\"1\" class=\"dataframe\">\n",
       "  <thead>\n",
       "    <tr style=\"text-align: right;\">\n",
       "      <th></th>\n",
       "      <th>filename</th>\n",
       "      <th>pred_str</th>\n",
       "      <th>hotword_present</th>\n",
       "    </tr>\n",
       "  </thead>\n",
       "  <tbody>\n",
       "    <tr>\n",
       "      <th>0</th>\n",
       "      <td>sample-000000.mp3</td>\n",
       "      <td>be careful with your prognostications said the...</td>\n",
       "      <td>True</td>\n",
       "    </tr>\n",
       "    <tr>\n",
       "      <th>3</th>\n",
       "      <td>sample-000003.mp3</td>\n",
       "      <td>i felt that everything i owned would be destroyed</td>\n",
       "      <td>True</td>\n",
       "    </tr>\n",
       "    <tr>\n",
       "      <th>89</th>\n",
       "      <td>sample-000089.mp3</td>\n",
       "      <td>the stranger seemed satisfied ith the answer</td>\n",
       "      <td>True</td>\n",
       "    </tr>\n",
       "    <tr>\n",
       "      <th>508</th>\n",
       "      <td>sample-000508.mp3</td>\n",
       "      <td>i had to test your courage the stranger said</td>\n",
       "      <td>True</td>\n",
       "    </tr>\n",
       "    <tr>\n",
       "      <th>674</th>\n",
       "      <td>sample-000674.mp3</td>\n",
       "      <td>i had to test your courage the stranger said</td>\n",
       "      <td>True</td>\n",
       "    </tr>\n",
       "    <tr>\n",
       "      <th>1093</th>\n",
       "      <td>sample-001093.mp3</td>\n",
       "      <td>be careful with your prognostications said the...</td>\n",
       "      <td>True</td>\n",
       "    </tr>\n",
       "    <tr>\n",
       "      <th>1101</th>\n",
       "      <td>sample-001101.mp3</td>\n",
       "      <td>the stranger was speaking of things that very ...</td>\n",
       "      <td>True</td>\n",
       "    </tr>\n",
       "    <tr>\n",
       "      <th>1243</th>\n",
       "      <td>sample-001243.mp3</td>\n",
       "      <td>the stranger was speaking of things that very ...</td>\n",
       "      <td>True</td>\n",
       "    </tr>\n",
       "    <tr>\n",
       "      <th>1501</th>\n",
       "      <td>sample-001501.mp3</td>\n",
       "      <td>i had to test your courage the stranger said</td>\n",
       "      <td>True</td>\n",
       "    </tr>\n",
       "    <tr>\n",
       "      <th>1933</th>\n",
       "      <td>sample-001933.mp3</td>\n",
       "      <td>the stranger seemed satisfied with the answer</td>\n",
       "      <td>True</td>\n",
       "    </tr>\n",
       "    <tr>\n",
       "      <th>2405</th>\n",
       "      <td>sample-002405.mp3</td>\n",
       "      <td>the stranger was speaking of things that prett...</td>\n",
       "      <td>True</td>\n",
       "    </tr>\n",
       "    <tr>\n",
       "      <th>2453</th>\n",
       "      <td>sample-002453.mp3</td>\n",
       "      <td>i don't like people to do that because the she...</td>\n",
       "      <td>True</td>\n",
       "    </tr>\n",
       "    <tr>\n",
       "      <th>3065</th>\n",
       "      <td>sample-003065.mp3</td>\n",
       "      <td>the stranger withdrew the sword from the boy's...</td>\n",
       "      <td>True</td>\n",
       "    </tr>\n",
       "    <tr>\n",
       "      <th>3219</th>\n",
       "      <td>sample-003219.mp3</td>\n",
       "      <td>i had to test your courage the stranger said</td>\n",
       "      <td>True</td>\n",
       "    </tr>\n",
       "    <tr>\n",
       "      <th>3808</th>\n",
       "      <td>sample-003808.mp3</td>\n",
       "      <td>i had to test your courage the stranger said</td>\n",
       "      <td>True</td>\n",
       "    </tr>\n",
       "  </tbody>\n",
       "</table>\n",
       "</div>"
      ],
      "text/plain": [
       "               filename                                           pred_str  \\\n",
       "0     sample-000000.mp3  be careful with your prognostications said the...   \n",
       "3     sample-000003.mp3  i felt that everything i owned would be destroyed   \n",
       "89    sample-000089.mp3       the stranger seemed satisfied ith the answer   \n",
       "508   sample-000508.mp3       i had to test your courage the stranger said   \n",
       "674   sample-000674.mp3       i had to test your courage the stranger said   \n",
       "1093  sample-001093.mp3  be careful with your prognostications said the...   \n",
       "1101  sample-001101.mp3  the stranger was speaking of things that very ...   \n",
       "1243  sample-001243.mp3  the stranger was speaking of things that very ...   \n",
       "1501  sample-001501.mp3       i had to test your courage the stranger said   \n",
       "1933  sample-001933.mp3      the stranger seemed satisfied with the answer   \n",
       "2405  sample-002405.mp3  the stranger was speaking of things that prett...   \n",
       "2453  sample-002453.mp3  i don't like people to do that because the she...   \n",
       "3065  sample-003065.mp3  the stranger withdrew the sword from the boy's...   \n",
       "3219  sample-003219.mp3       i had to test your courage the stranger said   \n",
       "3808  sample-003808.mp3       i had to test your courage the stranger said   \n",
       "\n",
       "      hotword_present  \n",
       "0                True  \n",
       "3                True  \n",
       "89               True  \n",
       "508              True  \n",
       "674              True  \n",
       "1093             True  \n",
       "1101             True  \n",
       "1243             True  \n",
       "1501             True  \n",
       "1933             True  \n",
       "2405             True  \n",
       "2453             True  \n",
       "3065             True  \n",
       "3219             True  \n",
       "3808             True  "
      ]
     },
     "execution_count": 10,
     "metadata": {},
     "output_type": "execute_result"
    }
   ],
   "source": [
    "df = df_raw.copy()\n",
    "hotwords = ['be careful', 'destroy', 'stranger']\n",
    "df['hotword_present'] = 0                              # Initialize hotword indicator\n",
    "\n",
    "for hotword in hotwords:\n",
    "    for ind, row in df.iterrows():\n",
    "        df.loc[ind,'hotword_present'] = row['hotword_present'] + (hotword in row['pred_str'])\n",
    "\n",
    "df['hotword_present'] = df['hotword_present'].map(lambda x: x>0)\n",
    "df = df.loc[df['hotword_present'],:]\n",
    "df"
   ]
  },
  {
   "cell_type": "code",
   "execution_count": 11,
   "metadata": {},
   "outputs": [
    {
     "data": {
      "text/html": [
       "<div>\n",
       "<style scoped>\n",
       "    .dataframe tbody tr th:only-of-type {\n",
       "        vertical-align: middle;\n",
       "    }\n",
       "\n",
       "    .dataframe tbody tr th {\n",
       "        vertical-align: top;\n",
       "    }\n",
       "\n",
       "    .dataframe thead th {\n",
       "        text-align: right;\n",
       "    }\n",
       "</style>\n",
       "<table border=\"1\" class=\"dataframe\">\n",
       "  <thead>\n",
       "    <tr style=\"text-align: right;\">\n",
       "      <th></th>\n",
       "      <th>filename</th>\n",
       "      <th>pred_str</th>\n",
       "      <th>hotword_present</th>\n",
       "    </tr>\n",
       "  </thead>\n",
       "  <tbody>\n",
       "    <tr>\n",
       "      <th>0</th>\n",
       "      <td>sample-000000.mp3</td>\n",
       "      <td>becarefulwithyourprognosticationssaidthestranger</td>\n",
       "      <td>True</td>\n",
       "    </tr>\n",
       "    <tr>\n",
       "      <th>3</th>\n",
       "      <td>sample-000003.mp3</td>\n",
       "      <td>ifeltthateverythingiownedwouldbedestroyed</td>\n",
       "      <td>True</td>\n",
       "    </tr>\n",
       "    <tr>\n",
       "      <th>89</th>\n",
       "      <td>sample-000089.mp3</td>\n",
       "      <td>thestrangerseemedsatisfiediththeanswer</td>\n",
       "      <td>True</td>\n",
       "    </tr>\n",
       "    <tr>\n",
       "      <th>508</th>\n",
       "      <td>sample-000508.mp3</td>\n",
       "      <td>ihadtotestyourcouragethestrangersaid</td>\n",
       "      <td>True</td>\n",
       "    </tr>\n",
       "    <tr>\n",
       "      <th>674</th>\n",
       "      <td>sample-000674.mp3</td>\n",
       "      <td>ihadtotestyourcouragethestrangersaid</td>\n",
       "      <td>True</td>\n",
       "    </tr>\n",
       "    <tr>\n",
       "      <th>1093</th>\n",
       "      <td>sample-001093.mp3</td>\n",
       "      <td>becarefulwithyourprognosticationssaidthestranger</td>\n",
       "      <td>True</td>\n",
       "    </tr>\n",
       "    <tr>\n",
       "      <th>1101</th>\n",
       "      <td>sample-001101.mp3</td>\n",
       "      <td>thestrangerwasspeakingofthingsthatveryfewpeopl...</td>\n",
       "      <td>True</td>\n",
       "    </tr>\n",
       "    <tr>\n",
       "      <th>1243</th>\n",
       "      <td>sample-001243.mp3</td>\n",
       "      <td>thestrangerwasspeakingofthingsthatveryfewpeopl...</td>\n",
       "      <td>True</td>\n",
       "    </tr>\n",
       "    <tr>\n",
       "      <th>1501</th>\n",
       "      <td>sample-001501.mp3</td>\n",
       "      <td>ihadtotestyourcouragethestrangersaid</td>\n",
       "      <td>True</td>\n",
       "    </tr>\n",
       "    <tr>\n",
       "      <th>1933</th>\n",
       "      <td>sample-001933.mp3</td>\n",
       "      <td>thestrangerseemedsatisfiedwiththeanswer</td>\n",
       "      <td>True</td>\n",
       "    </tr>\n",
       "    <tr>\n",
       "      <th>2405</th>\n",
       "      <td>sample-002405.mp3</td>\n",
       "      <td>thestrangerwasspeakingofthingsthatprettyfewpeo...</td>\n",
       "      <td>True</td>\n",
       "    </tr>\n",
       "    <tr>\n",
       "      <th>2453</th>\n",
       "      <td>sample-002453.mp3</td>\n",
       "      <td>idon'tlikepeopletodothatbecausethesheepareafra...</td>\n",
       "      <td>True</td>\n",
       "    </tr>\n",
       "    <tr>\n",
       "      <th>3065</th>\n",
       "      <td>sample-003065.mp3</td>\n",
       "      <td>thestrangerwithdrewtheswordfromtheboy'sforehea...</td>\n",
       "      <td>True</td>\n",
       "    </tr>\n",
       "    <tr>\n",
       "      <th>3219</th>\n",
       "      <td>sample-003219.mp3</td>\n",
       "      <td>ihadtotestyourcouragethestrangersaid</td>\n",
       "      <td>True</td>\n",
       "    </tr>\n",
       "    <tr>\n",
       "      <th>3808</th>\n",
       "      <td>sample-003808.mp3</td>\n",
       "      <td>ihadtotestyourcouragethestrangersaid</td>\n",
       "      <td>True</td>\n",
       "    </tr>\n",
       "  </tbody>\n",
       "</table>\n",
       "</div>"
      ],
      "text/plain": [
       "               filename                                           pred_str  \\\n",
       "0     sample-000000.mp3   becarefulwithyourprognosticationssaidthestranger   \n",
       "3     sample-000003.mp3          ifeltthateverythingiownedwouldbedestroyed   \n",
       "89    sample-000089.mp3             thestrangerseemedsatisfiediththeanswer   \n",
       "508   sample-000508.mp3               ihadtotestyourcouragethestrangersaid   \n",
       "674   sample-000674.mp3               ihadtotestyourcouragethestrangersaid   \n",
       "1093  sample-001093.mp3   becarefulwithyourprognosticationssaidthestranger   \n",
       "1101  sample-001101.mp3  thestrangerwasspeakingofthingsthatveryfewpeopl...   \n",
       "1243  sample-001243.mp3  thestrangerwasspeakingofthingsthatveryfewpeopl...   \n",
       "1501  sample-001501.mp3               ihadtotestyourcouragethestrangersaid   \n",
       "1933  sample-001933.mp3            thestrangerseemedsatisfiedwiththeanswer   \n",
       "2405  sample-002405.mp3  thestrangerwasspeakingofthingsthatprettyfewpeo...   \n",
       "2453  sample-002453.mp3  idon'tlikepeopletodothatbecausethesheepareafra...   \n",
       "3065  sample-003065.mp3  thestrangerwithdrewtheswordfromtheboy'sforehea...   \n",
       "3219  sample-003219.mp3               ihadtotestyourcouragethestrangersaid   \n",
       "3808  sample-003808.mp3               ihadtotestyourcouragethestrangersaid   \n",
       "\n",
       "      hotword_present  \n",
       "0                True  \n",
       "3                True  \n",
       "89               True  \n",
       "508              True  \n",
       "674              True  \n",
       "1093             True  \n",
       "1101             True  \n",
       "1243             True  \n",
       "1501             True  \n",
       "1933             True  \n",
       "2405             True  \n",
       "2453             True  \n",
       "3065             True  \n",
       "3219             True  \n",
       "3808             True  "
      ]
     },
     "execution_count": 11,
     "metadata": {},
     "output_type": "execute_result"
    }
   ],
   "source": [
    "# Quick check to ensure that whitespaces from transcription typo did not result in missed entries.\n",
    "df_check = df_raw.copy()\n",
    "hotwords = ['becareful', 'destroy', 'stranger']\n",
    "df_check['hotword_present'] = 0                              # Initialize hotword indicator\n",
    "df_check['pred_str'] = df_check['pred_str'].str.replace(r'\\s+', '', regex=True)\n",
    "\n",
    "for hotword in hotwords:\n",
    "    for ind, row in df.iterrows():\n",
    "        df_check.loc[ind,'hotword_present'] = row['hotword_present'] + (hotword in row['pred_str'])\n",
    "\n",
    "df_check['hotword_present'] = df_check['hotword_present'].map(lambda x: x>0)\n",
    "df_check = df_check.loc[df_check['hotword_present'],:]\n",
    "df_check"
   ]
  },
  {
   "cell_type": "markdown",
   "metadata": {},
   "source": [
    "We save the mp3s with hotwords in `detected.txt` (__task 5a__)."
   ]
  },
  {
   "cell_type": "code",
   "execution_count": 12,
   "metadata": {},
   "outputs": [],
   "source": [
    "detected_path = os.path.join(HOME_DIR, 'asr_project/hotword-detection/detected.txt')\n",
    "with open(detected_path, 'w') as f:\n",
    "    for filename in df['filename'].to_list():\n",
    "        f.write(filename)\n",
    "        f.write('\\n')"
   ]
  }
 ],
 "metadata": {
  "kernelspec": {
   "display_name": "asr",
   "language": "python",
   "name": "python3"
  },
  "language_info": {
   "codemirror_mode": {
    "name": "ipython",
    "version": 3
   },
   "file_extension": ".py",
   "mimetype": "text/x-python",
   "name": "python",
   "nbconvert_exporter": "python",
   "pygments_lexer": "ipython3",
   "version": "3.12.7"
  }
 },
 "nbformat": 4,
 "nbformat_minor": 4
}
